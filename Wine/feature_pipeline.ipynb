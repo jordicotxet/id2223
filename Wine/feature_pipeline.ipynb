{
 "cells": [
  {
   "cell_type": "markdown",
   "metadata": {},
   "source": [
    "Import dependencies"
   ]
  },
  {
   "cell_type": "code",
   "execution_count": null,
   "metadata": {},
   "outputs": [],
   "source": [
    "from ucimlrepo import fetch_ucirepo \n",
    "import pandas as pd\n",
    "import seaborn as sns\n",
    "import matplotlib.pyplot as plt\n",
    "import hopsworks\n",
    "\n",
    "from sklearn.model_selection import train_test_split\n",
    "from sklearn import preprocessing\n",
    "from sklearn.metrics import accuracy_score\n",
    "from xgboost import XGBClassifier, plot_importance\n",
    "import xgboost as xgb\n",
    "from sklearn.ensemble import RandomForestClassifier, GradientBoostingClassifier\n",
    "from imblearn.over_sampling import SMOTE, RandomOverSampler\n",
    "from collections import Counter\n",
    "import numpy as np\n",
    "from sklearn.model_selection import RepeatedStratifiedKFold, RandomizedSearchCV"
   ]
  },
  {
   "cell_type": "code",
   "execution_count": null,
   "metadata": {},
   "outputs": [],
   "source": [
    "project = hopsworks.login()\n",
    "fs = project.get_feature_store()"
   ]
  },
  {
   "cell_type": "markdown",
   "metadata": {},
   "source": [
    "Fetch the data"
   ]
  },
  {
   "cell_type": "code",
   "execution_count": null,
   "metadata": {},
   "outputs": [],
   "source": [
    "wine_quality = pd.read_csv(\"Wine/winequality/winequality-white.csv\", sep=\";\")\n",
    "df_features = wine_quality"
   ]
  },
  {
   "cell_type": "code",
   "execution_count": null,
   "metadata": {},
   "outputs": [],
   "source": [
    "def visualize_dataset(data, columns):\n",
    "    fig, axis = plt.subplots(3, 4)\n",
    "    c = 0\n",
    "    for i in range(3):\n",
    "        for j in range(4):\n",
    "            if c == 11:\n",
    "                break\n",
    "            axis[i,j].title.set_text(columns[c])\n",
    "            data[columns[c]].hist(bins = 20, ax = axis[i,j])\n",
    "            c += 1\n",
    "    axis[2,3].title.set_text(\"quality\")\n",
    "    data[\"quality\"].hist(bins = 20, ax = axis[2,3])\n",
    "    plt.show()\n",
    "\n",
    "columns = wine_quality.columns\n",
    "visualize_dataset(wine_quality, columns)"
   ]
  },
  {
   "cell_type": "code",
   "execution_count": null,
   "metadata": {},
   "outputs": [],
   "source": [
    "df_features = wine_quality\n",
    "\n",
    "drop_col = [\"fixed_acidity\",\n",
    "           \"citric_acid\",\n",
    "           \"total_sulfur_dioxide\",\n",
    "           \"density\",\n",
    "           \"pH\",\n",
    "           \"sulphates\",\n",
    "           ]\n",
    "\n",
    "df_features.drop(columns = drop_col, inplace = True)\n",
    "df_features.drop_duplicates(inplace = True)\n",
    "X, y = df_features.iloc[:,:-1], df_features.iloc[:,-1:]\n"
   ]
  },
  {
   "cell_type": "code",
   "execution_count": null,
   "metadata": {},
   "outputs": [],
   "source": [
    "columns = [\n",
    "           \"volatile_acidity\",\n",
    "           \"residual_sugar\",\n",
    "           \"chlorides\",\n",
    "           \"free_sulfur_dioxide\",\n",
    "           \"alcohol\",\n",
    "           \"quality\"\n",
    "           ]\n",
    "\n",
    "\n",
    "v = y.values.squeeze()\n",
    "v1 = np.select([v<6,v==6, v>6],[0,1,2])[:,None]\n",
    "y = pd.DataFrame(v1, columns=[\"quality\"])\n",
    "\n",
    "X_val = X.values\n",
    "y_val = y.values\n",
    "df_data = np.concatenate((X_val, y_val), axis = 1)\n",
    "\n",
    "df = pd.DataFrame(df_data, columns=columns)\n",
    "\n",
    "grouping = df.groupby('quality')\n"
   ]
  },
  {
   "cell_type": "code",
   "execution_count": null,
   "metadata": {},
   "outputs": [],
   "source": [
    "wine_fg = fs.get_or_create_feature_group(\n",
    "    name=\"wine\",\n",
    "    version=1,\n",
    "    primary_key=columns, \n",
    "    description=\"Dataset containing properties of different white wines and their respective qualities\")\n",
    "wine_fg.insert(df)\n",
    "\n",
    "for key in grouping.groups.keys():\n",
    "    fg = fs.get_or_create_feature_group(\n",
    "    name=\"wine_subset_\" + str(int(key)),\n",
    "    version=1,\n",
    "    primary_key=columns, \n",
    "    description=\"Wine that belong to quality group: \" +  str(key),\n",
    "    parents=[wine_fg])\n",
    "    v1 = grouping.get_group(key)\n",
    "    fg.insert(v1)"
   ]
  }
 ],
 "metadata": {
  "kernelspec": {
   "display_name": ".venv",
   "language": "python",
   "name": "python3"
  },
  "language_info": {
   "codemirror_mode": {
    "name": "ipython",
    "version": 3
   },
   "file_extension": ".py",
   "mimetype": "text/x-python",
   "name": "python",
   "nbconvert_exporter": "python",
   "pygments_lexer": "ipython3",
   "version": "3.10.5"
  }
 },
 "nbformat": 4,
 "nbformat_minor": 2
}
